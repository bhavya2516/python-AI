{
 "cells": [
  {
   "cell_type": "code",
   "execution_count": 1,
   "id": "48342360-7072-4d12-b470-75a858abe056",
   "metadata": {},
   "outputs": [
    {
     "name": "stdout",
     "output_type": "stream",
     "text": [
      "The humanoid robot named Atlas had 25 conversations today.\n",
      "Its current battery level is 87.5%.\n",
      "Is the robot operational? True\n"
     ]
    }
   ],
   "source": [
    "robot_name = \"Atlas\"  \n",
    "interaction_count = 25 \n",
    "battery_level = 87.5\n",
    "is_operational = True \n",
    "print(f\"The humanoid robot named {robot_name} had {interaction_count} conversations today.\")\n",
    "print(f\"Its current battery level is {battery_level}%.\")\n",
    "print(f\"Is the robot operational? {is_operational}\")\n"
   ]
  },
  {
   "cell_type": "code",
   "execution_count": 3,
   "id": "8582be10-f9c6-41a1-ba5f-211af0c091a2",
   "metadata": {},
   "outputs": [
    {
     "name": "stdin",
     "output_type": "stream",
     "text": [
      "Enter an integer:  5\n"
     ]
    },
    {
     "name": "stdout",
     "output_type": "stream",
     "text": [
      "The number 5 is positive.\n"
     ]
    }
   ],
   "source": [
    "num = int(input(\"Enter an integer: \"))\n",
    "if num > 0:\n",
    "    print(f\"The number {num} is positive.\")\n",
    "elif num < 0:\n",
    "    print(f\"The number {num} is negative.\")\n",
    "else:\n",
    "    print(\"The number is zero.\")\n"
   ]
  },
  {
   "cell_type": "code",
   "execution_count": 5,
   "id": "965dc774-3108-4f25-a83d-e5822458a0b9",
   "metadata": {},
   "outputs": [
    {
     "name": "stdin",
     "output_type": "stream",
     "text": [
      "Enter a number:  8\n"
     ]
    },
    {
     "name": "stdout",
     "output_type": "stream",
     "text": [
      "\n",
      "Multiplication Table for 8:\n",
      "8 x 1 = 8\n",
      "8 x 2 = 16\n",
      "8 x 3 = 24\n",
      "8 x 4 = 32\n",
      "8 x 5 = 40\n",
      "8 x 6 = 48\n",
      "8 x 7 = 56\n",
      "8 x 8 = 64\n",
      "8 x 9 = 72\n",
      "8 x 10 = 80\n"
     ]
    }
   ],
   "source": [
    "num = int(input(\"Enter a number: \"))\n",
    "print(f\"\\nMultiplication Table for {num}:\")\n",
    "for i in range(1, 11):\n",
    "    print(f\"{num} x {i} = {num * i}\")\n"
   ]
  },
  {
   "cell_type": "code",
   "execution_count": 6,
   "id": "543bed26-c1ef-47b1-8e78-e464f451d32f",
   "metadata": {
    "scrolled": true
   },
   "outputs": [
    {
     "name": "stdout",
     "output_type": "stream",
     "text": [
      "Fruit List: ['Apple', 'Banana', 'Cherry', 'Mango', 'Orange']\n",
      "First Fruit: Apple\n",
      "Last Fruit: Orange\n",
      "After Adding a Fruit: ['Apple', 'Banana', 'Cherry', 'Mango', 'Orange', 'Grapes']\n",
      "After Removing 'Banana': ['Apple', 'Cherry', 'Mango', 'Orange', 'Grapes']\n",
      "Sorted Fruit List: ['Apple', 'Cherry', 'Grapes', 'Mango', 'Orange']\n",
      "Reversed Fruit List: ['Orange', 'Mango', 'Grapes', 'Cherry', 'Apple']\n"
     ]
    }
   ],
   "source": [
    "fruits = [\"Apple\", \"Banana\", \"Cherry\", \"Mango\", \"Orange\"]\n",
    "print(\"Fruit List:\", fruits)\n",
    "print(\"First Fruit:\", fruits[0])\n",
    "print(\"Last Fruit:\", fruits[-1])\n",
    "fruits.append(\"Grapes\")\n",
    "print(\"After Adding a Fruit:\", fruits)\n",
    "fruits.remove(\"Banana\")\n",
    "print(\"After Removing 'Banana':\", fruits)\n",
    "fruits.sort()\n",
    "print(\"Sorted Fruit List:\", fruits)\n",
    "fruits.reverse()\n",
    "print(\"Reversed Fruit List:\", fruits)\n"
   ]
  },
  {
   "cell_type": "code",
   "execution_count": 10,
   "id": "343d96bb-80ff-470b-960b-10b84f86735b",
   "metadata": {},
   "outputs": [
    {
     "name": "stdout",
     "output_type": "stream",
     "text": [
      "Tuple: (10, 20, 30, 40, 50)\n",
      "First Element: 10\n",
      "Last Element: 50\n",
      "30 is in the tuple.\n",
      "Index of 40: 3\n",
      "Length of Tuple: 5\n"
     ]
    }
   ],
   "source": [
    "numbers = (10,20,30,40,50)\n",
    "print(\"Tuple:\", numbers)\n",
    "print(\"First Element:\", numbers[0])\n",
    "print(\"Last Element:\", numbers[-1])\n",
    "check_number = 30\n",
    "if check_number in numbers:\n",
    "    print(f\"{check_number} is in the tuple.\")\n",
    "else:\n",
    "    print(f\"{check_number} is not in the tuple.\")\n",
    "index_of_40 = numbers.index(40)\n",
    "print(\"Index of 40:\", index_of_40)\n",
    "length_of_tuple = len(numbers)\n",
    "print(\"Length of Tuple:\", length_of_tuple)\n"
   ]
  },
  {
   "cell_type": "code",
   "execution_count": 11,
   "id": "477edac0-0b1f-4f0d-be85-eafbb11caf53",
   "metadata": {},
   "outputs": [
    {
     "name": "stdout",
     "output_type": "stream",
     "text": [
      "Student Marks Dictionary: {'Alice': 85, 'Bob': 92, 'Charlie': 78}\n",
      "Bob's Marks: 92\n",
      "After Adding David: {'Alice': 85, 'Bob': 92, 'Charlie': 78, 'David': 88}\n",
      "After Updating Alice's Marks: {'Alice': 90, 'Bob': 92, 'Charlie': 78, 'David': 88}\n",
      "After Removing Charlie: {'Alice': 90, 'Bob': 92, 'David': 88}\n",
      "Number of Students: 3\n",
      "Bob is in the dictionary.\n"
     ]
    }
   ],
   "source": [
    "students_marks = {\n",
    "    \"Alice\": 85,\n",
    "    \"Bob\": 92,\n",
    "    \"Charlie\": 78\n",
    "}\n",
    "print(\"Student Marks Dictionary:\", students_marks)\n",
    "print(\"Bob's Marks:\", students_marks[\"Bob\"])\n",
    "students_marks[\"David\"] = 88\n",
    "print(\"After Adding David:\", students_marks)\n",
    "students_marks[\"Alice\"] = 90\n",
    "print(\"After Updating Alice's Marks:\", students_marks)\n",
    "del students_marks[\"Charlie\"]\n",
    "print(\"After Removing Charlie:\", students_marks)\n",
    "num_students = len(students_marks)\n",
    "print(\"Number of Students:\", num_students)\n",
    "if \"Bob\" in students_marks:\n",
    "    print(\"Bob is in the dictionary.\")\n",
    "else:\n",
    "    print(\"Bob is not in the dictionary.\")"
   ]
  },
  {
   "cell_type": "code",
   "execution_count": 12,
   "id": "57d3dc92-30c9-44c4-af43-f4cfb256bc15",
   "metadata": {},
   "outputs": [
    {
     "name": "stdout",
     "output_type": "stream",
     "text": [
      "Union of Set1 and Set2: {1, 2, 3, 4, 5, 6, 7, 8}\n",
      "Intersection of Set1 and Set2: {4, 5}\n",
      "Difference of Set1 from Set2: {1, 2, 3}\n",
      "Symmetric Difference of Set1 and Set2: {1, 2, 3, 6, 7, 8}\n",
      "Is Set1 a subset of Set2? False\n",
      "Is Set1 a superset of Set2? False\n"
     ]
    }
   ],
   "source": [
    "set1 = {1, 2, 3, 4, 5}\n",
    "set2 = {4, 5, 6, 7, 8}\n",
    "union_set = set1.union(set2)\n",
    "print(\"Union of Set1 and Set2:\", union_set)\n",
    "intersection_set = set1.intersection(set2)\n",
    "print(\"Intersection of Set1 and Set2:\", intersection_set)\n",
    "difference_set = set1.difference(set2)\n",
    "print(\"Difference of Set1 from Set2:\", difference_set)\n",
    "symmetric_difference_set = set1.symmetric_difference(set2)\n",
    "print(\"Symmetric Difference of Set1 and Set2:\", symmetric_difference_set)\n",
    "is_subset = set1.issubset(set2)\n",
    "print(\"Is Set1 a subset of Set2?\", is_subset)\n",
    "is_superset = set1.issuperset(set2)\n",
    "print(\"Is Set1 a superset of Set2?\", is_superset)\n"
   ]
  },
  {
   "cell_type": "code",
   "execution_count": 13,
   "id": "c068f0ad-99ee-49bc-a8b5-2e80934d9648",
   "metadata": {},
   "outputs": [
    {
     "name": "stdout",
     "output_type": "stream",
     "text": [
      "The largest number in the list is: 89\n"
     ]
    }
   ],
   "source": [
    "def find_largest(numbers):\n",
    "    return max(numbers)\n",
    "sample_list = [12, 45, 67, 23, 89, 34]\n",
    "largest_number = find_largest(sample_list)\n",
    "print(f\"The largest number in the list is: {largest_number}\")"
   ]
  },
  {
   "cell_type": "code",
   "execution_count": 2,
   "id": "86d2b83a-2038-454b-a6cc-8463e8fbdcc7",
   "metadata": {},
   "outputs": [
    {
     "name": "stdout",
     "output_type": "stream",
     "text": [
      "Squares of even numbers between 1 and 20: [4, 16, 36, 64, 100, 144, 196, 256, 324, 400]\n"
     ]
    }
   ],
   "source": [
    "even_squares = [x**2 for x in range(1, 21) if x % 2 == 0]\n",
    "print(\"Squares of even numbers between 1 and 20:\", even_squares)\n",
    "\n"
   ]
  },
  {
   "cell_type": "code",
   "execution_count": 3,
   "id": "4c91f8d6-b36d-4c05-a01f-190d63d8d61a",
   "metadata": {},
   "outputs": [
    {
     "name": "stdin",
     "output_type": "stream",
     "text": [
      "Enter the first number:  2\n",
      "Enter the second number:  7\n"
     ]
    },
    {
     "name": "stdout",
     "output_type": "stream",
     "text": [
      "The product of 2.0 and 7.0 is: 14.0\n"
     ]
    }
   ],
   "source": [
    "num1 = float(input(\"Enter the first number: \"))\n",
    "num2 = float(input(\"Enter the second number: \"))\n",
    "product = (lambda x, y: x * y)(num1, num2)\n",
    "print(f\"The product of {num1} and {num2} is: {product}\")"
   ]
  },
  {
   "cell_type": "code",
   "execution_count": 4,
   "id": "983fd591-15d9-4330-bb09-a67e218f3296",
   "metadata": {},
   "outputs": [
    {
     "name": "stdout",
     "output_type": "stream",
     "text": [
      "One-dimensional array: [1 2 3 4 5]\n",
      "Shape: (5,)\n",
      "Dimensions: 1\n",
      "\n",
      "Two-dimensional array:\n",
      "[[1 2 3]\n",
      " [4 5 6]\n",
      " [7 8 9]]\n",
      "Shape: (3, 3)\n",
      "Dimensions: 2\n",
      "\n",
      "Three-dimensional array:\n",
      "[[[1 2]\n",
      "  [3 4]]\n",
      "\n",
      " [[5 6]\n",
      "  [7 8]]]\n",
      "Shape: (2, 2, 2)\n",
      "Dimensions: 3\n"
     ]
    }
   ],
   "source": [
    "import numpy as np\n",
    "one_d_array = np.array([1, 2, 3, 4, 5])\n",
    "print(\"One-dimensional array:\", one_d_array)\n",
    "print(\"Shape:\", one_d_array.shape)\n",
    "print(\"Dimensions:\", one_d_array.ndim)\n",
    "two_d_array = np.array([[1, 2, 3], [4, 5, 6], [7, 8, 9]])\n",
    "print(\"\\nTwo-dimensional array:\")\n",
    "print(two_d_array)\n",
    "print(\"Shape:\", two_d_array.shape)\n",
    "print(\"Dimensions:\", two_d_array.ndim)\n",
    "three_d_array = np.array([[[1, 2], [3, 4]], [[5, 6], [7, 8]]])\n",
    "print(\"\\nThree-dimensional array:\")\n",
    "print(three_d_array)\n",
    "print(\"Shape:\", three_d_array.shape)\n",
    "print(\"Dimensions:\", three_d_array.ndim)\n"
   ]
  },
  {
   "cell_type": "code",
   "execution_count": 5,
   "id": "0c102336-075f-4c5d-bd08-c34f1d9255d2",
   "metadata": {},
   "outputs": [
    {
     "name": "stdout",
     "output_type": "stream",
     "text": [
      "5x5 Random Integer Array:\n",
      "[[85 60 48 18 88]\n",
      " [ 1 42 97 89  4]\n",
      " [80 52 18 55 23]\n",
      " [98 31 91 62 44]\n",
      " [ 8 92  3 87  7]]\n",
      "\n",
      "Element at first row and first column: 85\n",
      "Element at third row and second column: 52\n",
      "\n",
      "First row: [85 60 48 18 88]\n",
      "Second column: [60 42 52 31 92]\n",
      "\n",
      "Subarray of rows 2 to 4 and columns 1 to 3:\n",
      "[[42 97 89]\n",
      " [52 18 55]\n",
      " [31 91 62]]\n"
     ]
    }
   ],
   "source": [
    "import numpy as np\n",
    "random_array = np.random.randint(1, 101, size=(5, 5))\n",
    "print(\"5x5 Random Integer Array:\")\n",
    "print(random_array)\n",
    "print(\"\\nElement at first row and first column:\", random_array[0, 0])\n",
    "print(\"Element at third row and second column:\", random_array[2, 1])\n",
    "print(\"\\nFirst row:\", random_array[0])\n",
    "print(\"Second column:\", random_array[:, 1])\n",
    "# 5. Access the subarray consisting of rows 2 to 4 and columns 1 to 3 (indexing from 1)\n",
    "print(\"\\nSubarray of rows 2 to 4 and columns 1 to 3:\")\n",
    "print(random_array[1:4, 1:4])\n"
   ]
  },
  {
   "cell_type": "code",
   "execution_count": 7,
   "id": "eeaba927-3541-4e69-86b7-032d8345556a",
   "metadata": {},
   "outputs": [
    {
     "name": "stdout",
     "output_type": "stream",
     "text": [
      "Original 4x4 Array:\n",
      "[[ 1  2  3  4]\n",
      " [ 5  6  7  8]\n",
      " [ 9 10 11 12]\n",
      " [13 14 15 16]]\n",
      "\n",
      "First two rows:\n",
      "[[1 2 3 4]\n",
      " [5 6 7 8]]\n",
      "\n",
      "Last two columns:\n",
      "[[ 3  4]\n",
      " [ 7  8]\n",
      " [11 12]\n",
      " [15 16]]\n",
      "\n",
      "Middle 2x2 Submatrix:\n",
      "[[ 6  7]\n",
      " [10 11]]\n"
     ]
    }
   ],
   "source": [
    "import numpy as np\n",
    "array_4x4 = np.arange(1, 17).reshape(4, 4)\n",
    "print(\"Original 4x4 Array:\")\n",
    "print(array_4x4)\n",
    "first_two_rows = array_4x4[:2, :]\n",
    "print(\"\\nFirst two rows:\")\n",
    "print(first_two_rows)\n",
    "last_two_columns = array_4x4[:, -2:]\n",
    "print(\"\\nLast two columns:\")\n",
    "print(last_two_columns)\n",
    "middle_submatrix = array_4x4[1:3, 1:3]\n",
    "print(\"\\nMiddle 2x2 Submatrix:\")\n",
    "print(middle_submatrix)\n",
    "even_index_elements = array_4x4[::2, ::2]"
   ]
  },
  {
   "cell_type": "code",
   "execution_count": 8,
   "id": "d006861a-a12c-4454-93a0-d8a78dfc0f42",
   "metadata": {},
   "outputs": [
    {
     "name": "stdout",
     "output_type": "stream",
     "text": [
      "Original 2D Array (6x2):\n",
      "[[ 1  2]\n",
      " [ 3  4]\n",
      " [ 5  6]\n",
      " [ 7  8]\n",
      " [ 9 10]\n",
      " [11 12]]\n",
      "\n",
      "Reshaped 3D Array (2x3x2):\n",
      "[[[ 1  2]\n",
      "  [ 3  4]\n",
      "  [ 5  6]]\n",
      "\n",
      " [[ 7  8]\n",
      "  [ 9 10]\n",
      "  [11 12]]]\n",
      "\n",
      "Flattened Array:\n",
      "[ 1  2  3  4  5  6  7  8  9 10 11 12]\n"
     ]
    }
   ],
   "source": [
    "import numpy as np\n",
    "array_2d = np.arange(1, 13).reshape(6, 2)\n",
    "print(\"Original 2D Array (6x2):\")\n",
    "print(array_2d)\n",
    "array_3d = array_2d.reshape(2, 3, 2)\n",
    "print(\"\\nReshaped 3D Array (2x3x2):\")\n",
    "print(array_3d)\n",
    "flattened_array = array_3d.flatten()\n",
    "print(\"\\nFlattened Array:\")\n",
    "print(flattened_array)\n"
   ]
  },
  {
   "cell_type": "code",
   "execution_count": 9,
   "id": "b8a9f0ef-f3c5-4c96-a4c1-d5fd75f1ce99",
   "metadata": {},
   "outputs": [
    {
     "name": "stdout",
     "output_type": "stream",
     "text": [
      "Original 3x3 Array:\n",
      "[[1 2 3]\n",
      " [4 5 6]\n",
      " [7 8 9]]\n",
      "\n",
      "1x3 Array:\n",
      "[10 20 30]\n",
      "\n",
      "Result After Broadcasting Addition:\n",
      "[[11 22 33]\n",
      " [14 25 36]\n",
      " [17 28 39]]\n"
     ]
    }
   ],
   "source": [
    "import numpy as np\n",
    "array_3x3 = np.array([[1, 2, 3], \n",
    "                       [4, 5, 6], \n",
    "                       [7, 8, 9]])\n",
    "print(\"Original 3x3 Array:\")\n",
    "print(array_3x3)\n",
    "array_1x3 = np.array([10, 20, 30])\n",
    "print(\"\\n1x3 Array:\")\n",
    "print(array_1x3)\n",
    "result = array_3x3 + array_1x3\n",
    "print(\"\\nResult After Broadcasting Addition:\")\n",
    "print(result)\n"
   ]
  },
  {
   "cell_type": "code",
   "execution_count": 10,
   "id": "8cff7fd8-1c2d-49a1-84e0-11bb5dcdfff3",
   "metadata": {},
   "outputs": [
    {
     "name": "stdout",
     "output_type": "stream",
     "text": [
      "Array A:\n",
      "[[ 2  4  6]\n",
      " [ 8 10 12]\n",
      " [14 16 18]]\n",
      "\n",
      "Array B:\n",
      "[[1 2 3]\n",
      " [4 5 6]\n",
      " [7 8 9]]\n",
      "\n",
      "Element-wise Addition:\n",
      "[[ 3  6  9]\n",
      " [12 15 18]\n",
      " [21 24 27]]\n",
      "\n",
      "Element-wise Subtraction:\n",
      "[[1 2 3]\n",
      " [4 5 6]\n",
      " [7 8 9]]\n",
      "\n",
      "Element-wise Multiplication:\n",
      "[[  2   8  18]\n",
      " [ 32  50  72]\n",
      " [ 98 128 162]]\n",
      "\n",
      "Element-wise Division:\n",
      "[[2. 2. 2.]\n",
      " [2. 2. 2.]\n",
      " [2. 2. 2.]]\n"
     ]
    }
   ],
   "source": [
    "import numpy as np\n",
    "A = np.array([[2, 4, 6], \n",
    "              [8, 10, 12], \n",
    "              [14, 16, 18]])\n",
    "B = np.array([[1, 2, 3], \n",
    "              [4, 5, 6], \n",
    "              [7, 8, 9]])\n",
    "print(\"Array A:\")\n",
    "print(A)\n",
    "print(\"\\nArray B:\")\n",
    "print(B)\n",
    "addition = A + B\n",
    "print(\"\\nElement-wise Addition:\")\n",
    "print(addition)\n",
    "subtraction = A - B\n",
    "print(\"\\nElement-wise Subtraction:\")\n",
    "print(subtraction)\n",
    "multiplication = A * B\n",
    "print(\"\\nElement-wise Multiplication:\")\n",
    "print(multiplication)\n",
    "division = A / B\n",
    "print(\"\\nElement-wise Division:\")\n",
    "print(division)\n"
   ]
  },
  {
   "cell_type": "code",
   "execution_count": 11,
   "id": "81791a5a-37a1-4b6f-9f27-0614c68248a8",
   "metadata": {},
   "outputs": [
    {
     "name": "stdout",
     "output_type": "stream",
     "text": [
      "Array A:\n",
      "[[ 2  4  6]\n",
      " [ 8 10 12]\n",
      " [14 16 18]]\n",
      "\n",
      "Array B:\n",
      "[[1 2 3]\n",
      " [4 5 6]\n",
      " [7 8 9]]\n",
      "\n",
      "Element-wise Addition:\n",
      "[[ 3  6  9]\n",
      " [12 15 18]\n",
      " [21 24 27]]\n",
      "\n",
      "Element-wise Subtraction:\n",
      "[[1 2 3]\n",
      " [4 5 6]\n",
      " [7 8 9]]\n",
      "\n",
      "Element-wise Multiplication:\n",
      "[[  2   8  18]\n",
      " [ 32  50  72]\n",
      " [ 98 128 162]]\n",
      "\n",
      "Element-wise Division:\n",
      "[[2. 2. 2.]\n",
      " [2. 2. 2.]\n",
      " [2. 2. 2.]]\n"
     ]
    }
   ],
   "source": [
    "import numpy as np\n",
    "A = np.array([[2, 4, 6], \n",
    "              [8, 10, 12], \n",
    "              [14, 16, 18]])\n",
    "B = np.array([[1, 2, 3], \n",
    "              [4, 5, 6], \n",
    "              [7, 8, 9]])\n",
    "print(\"Array A:\")\n",
    "print(A)\n",
    "print(\"\\nArray B:\")\n",
    "print(B)\n",
    "addition = A + B\n",
    "print(\"\\nElement-wise Addition:\")\n",
    "print(addition)\n",
    "subtraction = A - B\n",
    "print(\"\\nElement-wise Subtraction:\")\n",
    "print(subtraction)\n",
    "multiplication = A * B\n",
    "print(\"\\nElement-wise Multiplication:\")\n",
    "print(multiplication)\n",
    "division = A / B\n",
    "print(\"\\nElement-wise Division:\")\n",
    "print(division)\n"
   ]
  },
  {
   "cell_type": "code",
   "execution_count": 12,
   "id": "6fef95d4-ec8c-4757-bdff-77ab4a168bf9",
   "metadata": {},
   "outputs": [
    {
     "name": "stdout",
     "output_type": "stream",
     "text": [
      "Mean: 22.3\n",
      "Median: 21.0\n",
      "Mode: 15\n",
      "Population Variance: 36.61\n",
      "Sample Variance: 40.67777777777778\n",
      "Population Standard Deviation: 6.050619802962338\n",
      "Sample Standard Deviation: 6.3779132776934\n"
     ]
    }
   ],
   "source": [
    "import numpy as np\n",
    "import statistics as stats\n",
    "data = [15, 21, 29, 21, 15, 24, 32, 21, 15, 30]\n",
    "mean_value = np.mean(data)\n",
    "median_value = np.median(data)\n",
    "mode_value = stats.mode(data)\n",
    "variance_value = np.var(data, ddof=0)  \n",
    "sample_variance = np.var(data, ddof=1)\n",
    "std_dev_value = np.std(data, ddof=0)  \n",
    "sample_std_dev = np.std(data, ddof=1) \n",
    "print(f\"Mean: {mean_value}\")\n",
    "print(f\"Median: {median_value}\")\n",
    "print(f\"Mode: {mode_value}\")\n",
    "print(f\"Population Variance: {variance_value}\")\n",
    "print(f\"Sample Variance: {sample_variance}\")\n",
    "print(f\"Population Standard Deviation: {std_dev_value}\")\n",
    "print(f\"Sample Standard Deviation: {sample_std_dev}\")\n"
   ]
  },
  {
   "cell_type": "code",
   "execution_count": 18,
   "id": "4ba41ccd-7f5b-461e-a850-cdb73fccef68",
   "metadata": {},
   "outputs": [
    {
     "name": "stdout",
     "output_type": "stream",
     "text": [
      "  Robot_ID   Task_Type Component_ID Sensor_Type            Sensor_Data  \\\n",
      "0  RBT_001  Inspection      CMP_460       LIDAR  1 (obstacle detected)   \n",
      "1  RBT_002    Assembly      CMP_252     Thermal             85.3 (Â°C)   \n",
      "2  RBT_003  Inspection      CMP_248     Thermal       92% (visual fit)   \n",
      "3  RBT_004     Welding      CMP_433      Camera      98% (defect-free)   \n",
      "4  RBT_005    Assembly      CMP_992      Camera       92% (visual fit)   \n",
      "\n",
      "   Processing_Time (s)  Accuracy (%) Environmental_Status  \\\n",
      "0                 67.0          90.4               Stable   \n",
      "1                 71.2          98.1               Stable   \n",
      "2                 49.2          95.3             Unstable   \n",
      "3                 74.5          90.2               Stable   \n",
      "4                 64.5          97.2             Unstable   \n",
      "\n",
      "   Energy_Consumption (kWh) Human_Intervention_Needed Obstacle_Detected  \\\n",
      "0                       2.2                        No               Yes   \n",
      "1                       2.7                       Yes                No   \n",
      "2                       2.4                        No                No   \n",
      "3                       2.4                       Yes                No   \n",
      "4                       1.8                        No                No   \n",
      "\n",
      "  Defect_Detected  Interaction_Count  Steps_Walked  Objects_Recognized  \\\n",
      "0             Yes                  2            10                   2   \n",
      "1              No                  6            23                   4   \n",
      "2              No                  2            25                   3   \n",
      "3             Yes                  7            34                   5   \n",
      "4              No                  8            35                   3   \n",
      "\n",
      "   Learning_Sessions  Energy_Consumption (kWh).1  \n",
      "0                 10                         100  \n",
      "1                 12                         123  \n",
      "2                 45                         321  \n",
      "3                 12                         456  \n",
      "4                 32                         654  \n",
      "\n",
      "Mean of the specific column'Interaction_Count': 5.51\n"
     ]
    }
   ],
   "source": [
    "import pandas as pd\n",
    "df = pd.read_excel(\"robot_dataset(robot_dataset)_1.xlsx\")\n",
    "print(df.drop_duplicates().head(5))\n",
    "Mean_Specific = df['Interaction_Count'].mean() \n",
    "print(\"\\nMean of the specific column'Interaction_Count':\",Mean_Specific)"
   ]
  },
  {
   "cell_type": "code",
   "execution_count": 19,
   "id": "167c324e-d813-495f-8e67-b3990e620783",
   "metadata": {},
   "outputs": [
    {
     "name": "stdout",
     "output_type": "stream",
     "text": [
      "  Robot_ID   Task_Type Component_ID Sensor_Type            Sensor_Data  \\\n",
      "0  RBT_001  Inspection      CMP_460       LIDAR  1 (obstacle detected)   \n",
      "1  RBT_002    Assembly      CMP_252     Thermal             85.3 (Â°C)   \n",
      "2  RBT_003  Inspection      CMP_248     Thermal       92% (visual fit)   \n",
      "3  RBT_004     Welding      CMP_433      Camera      98% (defect-free)   \n",
      "4  RBT_005    Assembly      CMP_992      Camera       92% (visual fit)   \n",
      "\n",
      "   Processing_Time (s)  Accuracy (%) Environmental_Status  \\\n",
      "0                 67.0          90.4               Stable   \n",
      "1                 71.2          98.1               Stable   \n",
      "2                 49.2          95.3             Unstable   \n",
      "3                 74.5          90.2               Stable   \n",
      "4                 64.5          97.2             Unstable   \n",
      "\n",
      "   Energy_Consumption (kWh) Human_Intervention_Needed Obstacle_Detected  \\\n",
      "0                       2.2                        No               Yes   \n",
      "1                       2.7                       Yes                No   \n",
      "2                       2.4                        No                No   \n",
      "3                       2.4                       Yes                No   \n",
      "4                       1.8                        No                No   \n",
      "\n",
      "  Defect_Detected  Interaction_Count  Steps_Walked  Objects_Recognized  \\\n",
      "0             Yes                  2            10                   2   \n",
      "1              No                  6            23                   4   \n",
      "2              No                  2            25                   3   \n",
      "3             Yes                  7            34                   5   \n",
      "4              No                  8            35                   3   \n",
      "\n",
      "   Learning_Sessions  Energy_Consumption (kWh).1  \n",
      "0                 10                         100  \n",
      "1                 12                         123  \n",
      "2                 45                         321  \n",
      "3                 12                         456  \n",
      "4                 32                         654  \n",
      "\n",
      "Mean of the specific column 'Interaction_Count': 5.51\n"
     ]
    }
   ],
   "source": [
    "import pandas as pd\n",
    "df = pd.read_excel(\"robot_dataset(robot_dataset)_1.xlsx\")\n",
    "print(df.drop_duplicates().head(5))\n",
    "Mean_Specific = df['Interaction_Count'].mean() \n",
    "print(\"\\nMean of the specific column 'Interaction_Count':\",Mean_Specific)"
   ]
  },
  {
   "cell_type": "code",
   "execution_count": 20,
   "id": "e69520ad-0ddd-409e-930b-dd3e2f09fb14",
   "metadata": {},
   "outputs": [
    {
     "name": "stdout",
     "output_type": "stream",
     "text": [
      "\n",
      "Mean of the specific column 'Interaction_Count': 5.51\n",
      "The total of the column is: 14379\n",
      "Maximum value in 'Energy_Consumption (kWh)': 3.0\n",
      "Minimum value in 'Energy_Consumption (kWh): 1.0\n",
      "The correlation between Steps_Walked and Energy_Consumption (kWh) is: 0.0015478137393314488\n",
      "The variance of the 'Learning_Sessions' column is: 391.9422845691382\n"
     ]
    }
   ],
   "source": [
    "import pandas as pd\n",
    "df = pd.read_excel(\"robot_dataset(robot_dataset)_1.xlsx\")\n",
    "mean_specific = df['Interaction_Count'].mean() \n",
    "print(\"\\nMean of the specific column 'Interaction_Count':\", mean_specific)\n",
    "total = df['Steps_Walked'].sum() \n",
    "print(f\"The total of the column is: {total}\")\n",
    "max_value_column = df['Energy_Consumption (kWh)'].max() \n",
    "min_value_column = df['Energy_Consumption (kWh)'].min()\n",
    "print(f\"Maximum value in 'Energy_Consumption (kWh)': {max_value_column}\")\n",
    "print(f\"Minimum value in 'Energy_Consumption (kWh): {min_value_column}\") \n",
    "correlation = df['Steps_Walked'].corr(df['Energy_Consumption (kWh)']) \n",
    "print(f\"The correlation between Steps_Walked and Energy_Consumption (kWh) is: {correlation}\") \n",
    "variance = df['Learning_Sessions'].var() \n",
    "print(f\"The variance of the 'Learning_Sessions' column is: {variance}\")"
   ]
  },
  {
   "cell_type": "code",
   "execution_count": 25,
   "id": "6f32712c-9e73-43cd-9679-d09b4892395b",
   "metadata": {},
   "outputs": [
    {
     "data": {
      "image/png": "[encoded data removed]",
      "text/plain": [
       "<Figure size 640x480 with 1 Axes>"
      ]
     },
     "metadata": {},
     "output_type": "display_data"
    }
   ],
   "source": [
    "import matplotlib.pyplot as plt \n",
    "objects_recognized = [10, 12, 8, 15,11, 14, 9] \n",
    "plt.hist(objects_recognized, bins=6, edgecolor='black') \n",
    "plt.title('Histogram of Objects Recognized')\n",
    "plt.xlabel('Number of Objects') \n",
    "plt.ylabel('Frequency')\n",
    "plt.show()"
   ]
  },
  {
   "cell_type": "code",
   "execution_count": null,
   "id": "76a4d1ee-b43b-420e-81cf-4aefd57a969e",
   "metadata": {},
   "outputs": [],
   "source": []
  }
 ],
 "metadata": {
  "kernelspec": {
   "display_name": "Python 3 (ipykernel)",
   "language": "python",
   "name": "python3"
  },
  "language_info": {
   "codemirror_mode": {
    "name": "ipython",
    "version": 3
   },
   "file_extension": ".py",
   "mimetype": "text/x-python",
   "name": "python",
   "nbconvert_exporter": "python",
   "pygments_lexer": "ipython3",
   "version": "3.13.1"
  }
 },
 "nbformat": 4,
 "nbformat_minor": 5
}
